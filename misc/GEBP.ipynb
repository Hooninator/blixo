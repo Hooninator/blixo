{
 "cells": [
  {
   "cell_type": "code",
   "execution_count": null,
   "metadata": {},
   "outputs": [],
   "source": [
    "from __future__ import annotations\n",
    "from exo import *\n",
    "from exo.libs.memories import DRAM_STATIC\n",
    "from exo.platforms.x86 import *\n",
    "from exo.platforms.neon import *\n",
    "from exo.syntax import *"
   ]
  },
  {
   "cell_type": "code",
   "execution_count": null,
   "metadata": {},
   "outputs": [],
   "source": [
    "@proc\n",
    "def SGEMM(\n",
    "    M: size,\n",
    "    N: size,\n",
    "    K: size,\n",
    "    A: f32[M, K],\n",
    "    B: f32[K, N],\n",
    "    C: f32[M, N]\n",
    "):\n",
    "    assert M >= 1\n",
    "    assert N >= 1\n",
    "    assert K >= 1\n",
    "    assert stride(A, 1) == 1\n",
    "    assert stride(B, 1) == 1\n",
    "    assert stride(C, 1) == 1\n",
    "\n",
    "    for i in par(0, M):\n",
    "        for j in par(0, N):\n",
    "            for k in par(0, K):\n",
    "                C[i, j] += A[i, k] * B[k, j]\n",
    "print(SGEMM.c_code_str())"
   ]
  },
  {
   "cell_type": "code",
   "execution_count": null,
   "metadata": {},
   "outputs": [],
   "source": [
    "#Multiply a M_C*K_C block of A and a K_C*N panel of B. Calls the microkernel for each strip of B\n",
    "microkernel = (sgemm_win\n",
    "                .rename('microkernel')\n",
    "                .partial_eval(N_r,M_r)\n",
    "                .simplify())\n",
    "GEBP = (SGEMM\n",
    "            .rename(\"GEBP\")\n",
    "            #Partial eval\n",
    "            .partial_eval(M=M_c)\n",
    "            .partial_eval(K=K_c)\n",
    "            #Tile the block of A and the panel of B\n",
    "            .split('i', N_r, ['io', 'ii'], tail='cut_and_guard')\n",
    "            .split('j', M_r, ['jo', 'ji'], tail='cut_and_guard')\n",
    "            #Handle edge case\n",
    "            .fission_after('for jo in _: _', n_lifts=2)\n",
    "            #reorder so \n",
    "            .reorder('ii','jo')\n",
    "            #.unroll('io') #Can't unroll loops that lack a constant bound\n",
    "            .replace_all(microkernel)\n",
    "            .simplify()\n",
    "\n",
    ")\n",
    "print(GEBP.c_code_str())"
   ]
  }
 ],
 "metadata": {
  "language_info": {
   "name": "python"
  },
  "orig_nbformat": 4
 },
 "nbformat": 4,
 "nbformat_minor": 2
}
