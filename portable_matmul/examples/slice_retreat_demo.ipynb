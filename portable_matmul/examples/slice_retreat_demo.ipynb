{
 "cells": [
  {
   "cell_type": "markdown",
   "metadata": {},
   "source": [
    "### Example Small Matrix Kernel Generation Using Exo ###"
   ]
  },
  {
   "cell_type": "code",
   "execution_count": 1,
   "metadata": {},
   "outputs": [],
   "source": [
    "# Imports\n",
    "import driver"
   ]
  },
  {
   "cell_type": "code",
   "execution_count": 2,
   "metadata": {},
   "outputs": [],
   "source": [
    "# Boilerplate\n",
    "kernel_generator = driver.MicrokernelGenerator()"
   ]
  },
  {
   "cell_type": "markdown",
   "metadata": {},
   "source": [
    "First, we have the base SGEMM procedure, shown below"
   ]
  },
  {
   "cell_type": "code",
   "execution_count": 3,
   "metadata": {},
   "outputs": [
    {
     "data": {
      "text/markdown": [
       "```python\n",
       "def SGEMM(M: size, N: size, K: size, A: f32[M, K] @ DRAM, B: f32[K, N] @ DRAM,\n",
       "          C: f32[M, N] @ DRAM):\n",
       "    assert M >= 1\n",
       "    assert N >= 1\n",
       "    assert K >= 1\n",
       "    assert stride(A, 1) == 1\n",
       "    assert stride(B, 1) == 1\n",
       "    assert stride(C, 1) == 1\n",
       "    for i in par(0, M):\n",
       "        for j in par(0, N):\n",
       "            for k in par(0, K):\n",
       "                C[i, j] += A[i, k] * B[k, j]\n",
       "\n",
       "```"
      ],
      "text/plain": [
       "<exo.API.Procedure at 0xffff945eec50>"
      ]
     },
     "execution_count": 3,
     "metadata": {},
     "output_type": "execute_result"
    }
   ],
   "source": [
    "kernel_generator.sgemm_base"
   ]
  },
  {
   "cell_type": "markdown",
   "metadata": {},
   "source": [
    "Now, we will generate a 32x32 matmul kernel with a 4x16 microkernel that uses ARM Neon intrinsics."
   ]
  },
  {
   "cell_type": "code",
   "execution_count": 4,
   "metadata": {},
   "outputs": [
    {
     "data": {
      "text/markdown": [
       "```python\n",
       "def SGEMM(M: size, N: size, K: size, A: f32[M, K] @ DRAM, B: f32[K, N] @ DRAM,\n",
       "          C: f32[M, N] @ DRAM):\n",
       "    assert M >= 1\n",
       "    assert N >= 1\n",
       "    assert K >= 1\n",
       "    assert stride(A, 1) == 1\n",
       "    assert stride(B, 1) == 1\n",
       "    assert stride(C, 1) == 1\n",
       "    for ji in par(0, N / 16):\n",
       "        B_strip: f32[K, 16] @ DRAM\n",
       "        for i0 in seq(0, K):\n",
       "            for i1 in seq(0, 16):\n",
       "                B_strip[i0, i1] = B[i0, i1 + 16 * ji]\n",
       "        for ii in par(0, M / 4):\n",
       "            microkernel_4x16_0(K, A[4 * ii:4 * ii + 4, 0:K],\n",
       "                               B_strip[0:K, 0:16], C[4 * ii:4 * ii + 4,\n",
       "                                                     16 * ji:16 * ji + 16])\n",
       "        for io in par(0, M % 4):\n",
       "            for jo in par(0, 16):\n",
       "                for k in par(0, K):\n",
       "                    C[io + M / 4 * 4, 16 * ji +\n",
       "                      jo] += A[io + M / 4 * 4, k] * B[k, 16 * ji + jo]\n",
       "    for ii in par(0, M / 4):\n",
       "        for io in par(0, 4):\n",
       "            for jo in par(0, N % 16):\n",
       "                for k in par(0, K):\n",
       "                    C[4 * ii + io,\n",
       "                      jo + N / 16 * 16] += A[4 * ii + io,\n",
       "                                             k] * B[k, jo + N / 16 * 16]\n",
       "    for io in par(0, M % 4):\n",
       "        for jo in par(0, N % 16):\n",
       "            for k in par(0, K):\n",
       "                C[io + M / 4 * 4, jo +\n",
       "                  N / 16 * 16] += A[io + M / 4 * 4, k] * B[k, jo + N / 16 * 16]\n",
       "\n",
       "```"
      ],
      "text/plain": [
       "<exo.API.Procedure at 0xffff8c543d00>"
      ]
     },
     "execution_count": 4,
     "metadata": {},
     "output_type": "execute_result"
    }
   ],
   "source": [
    "# Neon without edge cases\n",
    "sgemm_exo_neon = kernel_generator.generate_exo_sgemm(driver.NeonMachine, 4, 16, 32, 32, 32)\n",
    "sgemm_exo_neon"
   ]
  },
  {
   "cell_type": "markdown",
   "metadata": {},
   "source": [
    "Here's what the microkernel itself looks like:"
   ]
  },
  {
   "cell_type": "code",
   "execution_count": 5,
   "metadata": {},
   "outputs": [
    {
     "data": {
      "text/markdown": [
       "```python\n",
       "def microkernel_4x16_0(K: size, A: [f32][4, K] @ DRAM, B: [f32][K, 16] @ DRAM,\n",
       "                       C: [f32][4, 16] @ DRAM):\n",
       "    assert K >= 1\n",
       "    assert stride(A, 1) == 1\n",
       "    assert stride(B, 1) == 1\n",
       "    assert stride(C, 1) == 1\n",
       "    C_reg: R[4, 4, 4] @ Neon4f\n",
       "    for i in par(0, 4):\n",
       "        for jo in par(0, 4):\n",
       "            neon_vld_4xf32(C_reg[i, jo, 0:4], C[i, 4 * jo:4 * jo + 4])\n",
       "    for k in seq(0, K):\n",
       "        for i in par(0, 4):\n",
       "            A_vec: R[4] @ Neon4f\n",
       "            neon_broadcast_4xf32(A_vec[0:4], A[i, k:k + 1])\n",
       "            for jo in par(0, 4):\n",
       "                B_vec: R[4] @ Neon4f\n",
       "                neon_vld_4xf32(B_vec[0:4], B[k, 4 * jo:4 * jo + 4])\n",
       "                neon_vfmadd_4xf32_4xf32(C_reg[i, jo, 0:4], A_vec[0:4],\n",
       "                                        B_vec[0:4])\n",
       "    for i in par(0, 4):\n",
       "        for jo in par(0, 4):\n",
       "            neon_vst_4xf32(C[i, 4 * jo:4 * jo + 4], C_reg[i, jo, 0:4])\n",
       "\n",
       "```"
      ],
      "text/plain": [
       "<exo.API.Procedure at 0xffff8c2fc040>"
      ]
     },
     "execution_count": 5,
     "metadata": {},
     "output_type": "execute_result"
    }
   ],
   "source": [
    "kernel_generator.microkernels[0]"
   ]
  },
  {
   "cell_type": "markdown",
   "metadata": {},
   "source": [
    "Now, we will generate a 31x31 matmul kernel with the same 4x16 microkernel. Since neither dimension of the microkernel evenly divides the problem size, there will be edge cases.\n",
    "\n",
    "Three separate kernels will be generated to handle the edge cases:"
   ]
  },
  {
   "cell_type": "code",
   "execution_count": 6,
   "metadata": {},
   "outputs": [
    {
     "data": {
      "text/markdown": [
       "```python\n",
       "def SGEMM(M: size, N: size, K: size, A: f32[M, K] @ DRAM, B: f32[K, N] @ DRAM,\n",
       "          C: f32[M, N] @ DRAM):\n",
       "    assert M >= 1\n",
       "    assert N >= 1\n",
       "    assert K >= 1\n",
       "    assert stride(A, 1) == 1\n",
       "    assert stride(B, 1) == 1\n",
       "    assert stride(C, 1) == 1\n",
       "    for ji in par(0, N / 16):\n",
       "        B_strip: f32[K, 16] @ DRAM\n",
       "        for i0 in seq(0, K):\n",
       "            for i1 in seq(0, 16):\n",
       "                B_strip[i0, i1] = B[i0, i1 + 16 * ji]\n",
       "        for ii in par(0, M / 4):\n",
       "            microkernel_4x16_1(K, A[4 * ii:4 * ii + 4, 0:K],\n",
       "                               B_strip[0:K, 0:16], C[4 * ii:4 * ii + 4,\n",
       "                                                     16 * ji:16 * ji + 16])\n",
       "        for iii in par(0, M % 4 / 3):\n",
       "            microkernel_3x16_2(\n",
       "                K, A[4 * (M / 4) + 3 * iii:4 * (M / 4) + 3 * iii + 3,\n",
       "                     0:K], B[0:K, 16 * ji:16 * ji + 16],\n",
       "                C[4 * (M / 4) + 3 * iii:4 * (M / 4) + 3 * iii + 3,\n",
       "                  16 * ji:16 * ji + 16])\n",
       "        for ioo in par(0, M % 4 % 3):\n",
       "            for jo in par(0, 16):\n",
       "                for k in par(0, K):\n",
       "                    C[ioo + M % 4 / 3 * 3 + M / 4 * 4,\n",
       "                      16 * ji + jo] += A[ioo + M % 4 / 3 * 3 + M / 4 * 4,\n",
       "                                         k] * B[k, 16 * ji + jo]\n",
       "    for ii in par(0, M / 4):\n",
       "        for jii in par(0, N % 16 / 12):\n",
       "            microkernel_4x12_3(\n",
       "                K, A[4 * ii:4 * ii + 4, 0:K],\n",
       "                B[0:K, 16 * (N / 16) + 12 * jii:16 * (N / 16) + 12 * jii + 12],\n",
       "                C[4 * ii:4 * ii + 4,\n",
       "                  16 * (N / 16) + 12 * jii:16 * (N / 16) + 12 * jii + 12])\n",
       "        for ko in par(0, K / 28):\n",
       "            for jiii in par(0, N % 16 % 12 / 3):\n",
       "                microkernel_4x3x28_4(\n",
       "                    A[4 * ii:4 * ii + 4, 28 * ko:28 * ko + 28],\n",
       "                    B[28 * ko:28 * ko + 28,\n",
       "                      12 * (N % 16 / 12) + 16 * (N / 16) + 3 * jiii:12 *\n",
       "                      (N % 16 / 12) + 16 * (N / 16) + 3 * jiii + 3],\n",
       "                    C[4 * ii:4 * ii + 4,\n",
       "                      12 * (N % 16 / 12) + 16 * (N / 16) + 3 * jiii:12 *\n",
       "                      (N % 16 / 12) + 16 * (N / 16) + 3 * jiii + 3])\n",
       "            for jooo in par(0, N % 16 % 12 % 3):\n",
       "                for io in par(0, 4):\n",
       "                    for ki in par(0, 28):\n",
       "                        C[4 * ii + io,\n",
       "                          jooo + N % 16 % 12 / 3 * 3 + N % 16 / 12 * 12 +\n",
       "                          N / 16 * 16] += A[4 * ii + io, 28 * ko + ki] * B[\n",
       "                              28 * ko + ki, jooo + N % 16 % 12 / 3 * 3 +\n",
       "                              N % 16 / 12 * 12 + N / 16 * 16]\n",
       "        for jiii in par(0, N % 16 % 12 / 3):\n",
       "            for jooo in par(0, 3):\n",
       "                for io in par(0, 4):\n",
       "                    for ki in par(0, K % 28):\n",
       "                        C[4 * ii + io, 3 * jiii + jooo + N % 16 / 12 * 12 +\n",
       "                          N / 16 * 16] += A[4 * ii + io, ki + K / 28 * 28] * B[\n",
       "                              ki + K / 28 * 28,\n",
       "                              3 * jiii + jooo + N % 16 / 12 * 12 + N / 16 * 16]\n",
       "        for jooo in par(0, N % 16 % 12 % 3):\n",
       "            for io in par(0, 4):\n",
       "                for ki in par(0, K % 28):\n",
       "                    C[4 * ii + io,\n",
       "                      jooo + N % 16 % 12 / 3 * 3 + N % 16 / 12 * 12 +\n",
       "                      N / 16 * 16] += A[4 * ii + io, ki + K / 28 * 28] * B[\n",
       "                          ki + K / 28 * 28, jooo + N % 16 % 12 / 3 * 3 +\n",
       "                          N % 16 / 12 * 12 + N / 16 * 16]\n",
       "    for io in par(0, M % 4):\n",
       "        for jo in par(0, N % 16):\n",
       "            for k in par(0, K):\n",
       "                C[io + M / 4 * 4, jo +\n",
       "                  N / 16 * 16] += A[io + M / 4 * 4, k] * B[k, jo + N / 16 * 16]\n",
       "\n",
       "```"
      ],
      "text/plain": [
       "<exo.API.Procedure at 0xffff4562fd90>"
      ]
     },
     "execution_count": 6,
     "metadata": {},
     "output_type": "execute_result"
    }
   ],
   "source": [
    "edge_exo_sgemm_neon = kernel_generator.generate_exo_sgemm(driver.NeonMachine, 4, 16, 31, 31, 31)\n",
    "edge_exo_sgemm_neon"
   ]
  },
  {
   "cell_type": "markdown",
   "metadata": {},
   "source": [
    "Now, we will generate a kernel using AVX512 instrinsics using the same method call!"
   ]
  },
  {
   "cell_type": "code",
   "execution_count": 3,
   "metadata": {},
   "outputs": [
    {
     "data": {
      "text/markdown": [
       "```python\n",
       "def microkernel_4x16_0(K: size, A: [f32][4, K] @ DRAM, B: [f32][K, 16] @ DRAM,\n",
       "                       C: [f32][4, 16] @ DRAM):\n",
       "    assert K >= 1\n",
       "    assert stride(A, 1) == 1\n",
       "    assert stride(B, 1) == 1\n",
       "    assert stride(C, 1) == 1\n",
       "    C_reg: R[4, 1, 16] @ AVX512\n",
       "    for i in par(0, 4):\n",
       "        for jo in par(0, 1):\n",
       "            mm512_loadu_ps(C_reg[i, jo, 0:16], C[i, 16 * jo:16 * jo + 16])\n",
       "    for k in seq(0, K):\n",
       "        for i in par(0, 4):\n",
       "            A_vec: R[16] @ AVX512\n",
       "            mm512_set1_ps(A_vec, A[i, k:k + 1])\n",
       "            for jo in par(0, 1):\n",
       "                B_vec: R[16] @ AVX512\n",
       "                mm512_loadu_ps(B_vec[0:16], B[k, 16 * jo:16 * jo + 16])\n",
       "                mm512_fmadd_ps(A_vec, B_vec, C_reg[i, jo, 0:16])\n",
       "    for i in par(0, 4):\n",
       "        for jo in par(0, 1):\n",
       "            mm512_storeu_ps(C[i, 16 * jo:16 * jo + 16], C_reg[i, jo, 0:16])\n",
       "\n",
       "```"
      ],
      "text/plain": [
       "<exo.API.Procedure at 0xffff6acd4250>"
      ]
     },
     "execution_count": 3,
     "metadata": {},
     "output_type": "execute_result"
    }
   ],
   "source": [
    "# AVX512\n",
    "kernel_generator.clear_microkernels()\n",
    "exo_sgemm_avx512 = kernel_generator.generate_exo_sgemm(driver.AVX512Machine, 4, 16, 32, 32, 32)\n",
    "kernel_generator.microkernels[0]"
   ]
  },
  {
   "cell_type": "code",
   "execution_count": null,
   "metadata": {},
   "outputs": [],
   "source": []
  }
 ],
 "metadata": {
  "interpreter": {
   "hash": "31f2aee4e71d21fbe5cf8b01ff0e069b9275f58929596ceb00d14d90e3e16cd6"
  },
  "kernelspec": {
   "display_name": "projectname",
   "language": "python",
   "name": "projectname"
  },
  "language_info": {
   "codemirror_mode": {
    "name": "ipython",
    "version": 3
   },
   "file_extension": ".py",
   "mimetype": "text/x-python",
   "name": "python",
   "nbconvert_exporter": "python",
   "pygments_lexer": "ipython3",
   "version": "3.10.6"
  },
  "orig_nbformat": 4
 },
 "nbformat": 4,
 "nbformat_minor": 2
}
